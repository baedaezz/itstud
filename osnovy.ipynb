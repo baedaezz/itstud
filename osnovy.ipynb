{
 "cells": [
  {
   "cell_type": "code",
   "execution_count": 5,
   "id": "ffaa7917",
   "metadata": {},
   "outputs": [
    {
     "name": "stdout",
     "output_type": "stream",
     "text": [
      "Введите что-нибудь:qwerty\n",
      "ywertq"
     ]
    }
   ],
   "source": [
    "i = int = 0\n",
    "user = input(\"Введите что-нибудь:\")\n",
    "print(user[len(user)-1], end=\"\")\n",
    "while (i != len(user)-2):    \n",
    "    i+=1\n",
    "    print(user[i], end=\"\")\n",
    "print(user[0],end=\"\")"
   ]
  },
  {
   "cell_type": "code",
   "execution_count": 4,
   "id": "afb18ec8",
   "metadata": {},
   "outputs": [
    {
     "name": "stdout",
     "output_type": "stream",
     "text": [
      "Введите натурально число:3\n"
     ]
    },
    {
     "data": {
      "text/plain": [
       "6"
      ]
     },
     "execution_count": 4,
     "metadata": {},
     "output_type": "execute_result"
    }
   ],
   "source": [
    "a = int(input(\"Введите натурально число:\"))\n",
    "\n",
    "def F (n):\n",
    "    if n > 1 :return n * F(n-1)\n",
    "    elif n == 1: return 1\n",
    "    elif n < 0: return \"Ошибка\"\n",
    "    else : return 1 \n",
    "    \n",
    "F (a)"
   ]
  },
  {
   "cell_type": "code",
   "execution_count": 3,
   "id": "704b3c49",
   "metadata": {},
   "outputs": [
    {
     "name": "stdout",
     "output_type": "stream",
     "text": [
      "Введите 'rock', 'scissors' или 'paper' для начала игры\n",
      "Выберите бойца:rock\n",
      "\n",
      "Ничья!\n",
      "Противник выбрал: rock\n"
     ]
    }
   ],
   "source": [
    "from random import randint\n",
    "a = randint(0,2)\n",
    "mas = ['rock', 'scissors', 'paper']\n",
    "print (\"Введите 'rock', 'scissors' или 'paper' для начала игры\")\n",
    "\n",
    "def UserChoice():\n",
    "    c = int = 0\n",
    "    userk = input(\"Выберите бойца:\")\n",
    "    print()    \n",
    "    if userk == 'rock' or userk == 'Rock': \n",
    "        c = 0        \n",
    "        Game(c)\n",
    "    elif userk == 'scissors' or userk == 'Scissors': \n",
    "        c = 1       \n",
    "        Game(c)\n",
    "    elif userk == 'paper' or userk == 'Paper': \n",
    "        c = 2        \n",
    "        Game(c)\n",
    "    else:\n",
    "        print(\"Ошибка\")\n",
    "        UserChoice()       \n",
    "\n",
    "\n",
    "def Game(b):\n",
    "    \n",
    "    if (b == 0) and (a == 1) : print('Вы победили!')\n",
    "    elif (b == 0) and (a == 2) : print('Вы проиграли!')\n",
    "    elif (b == 0) and (a == 0) : print('Ничья!')\n",
    "        \n",
    "    if (b == 1) and (a == 2) : print('Вы победили!')\n",
    "    elif (b == 1) and (a == 0) : print('Вы проиграли!')\n",
    "    elif (b == 1) and (a == 1) : print('Ничья!')\n",
    "        \n",
    "    if (b == 2) and (a == 0) : print('Вы победили!') \n",
    "    elif (b == 2) and (a == 1) : print('Вы проиграли!')\n",
    "    elif (b == 2) and (a == 2) : print('Ничья!')\n",
    "        \n",
    "    print(\"Противник выбрал:\", mas[a])\n",
    "    \n",
    "UserChoice() \n",
    "\n"
   ]
  },
  {
   "cell_type": "code",
   "execution_count": 2,
   "id": "ddf16d74",
   "metadata": {},
   "outputs": [
    {
     "name": "stdout",
     "output_type": "stream",
     "text": [
      "3\n",
      "2\n",
      "[[71, 65], [42, 44], [61, 30]]\n"
     ]
    }
   ],
   "source": [
    "from random import randint\n",
    "\n",
    "b = int(input()) # Массивы\n",
    "a = int(input()) # Элементы\n",
    "\n",
    "Bigmas = [[i for i in range(a)]]\n",
    "for i in range (b-1):\n",
    "    Bigmas += [[i for i in range(a)]]\n",
    "for T in range (b):\n",
    "    for Y in range(a):\n",
    "        Bigmas[T][Y] = randint(0,100)\n",
    "        \n",
    "print(Bigmas)"
   ]
  },
  {
   "cell_type": "code",
   "execution_count": 1,
   "id": "b06e9bd4",
   "metadata": {},
   "outputs": [
    {
     "name": "stdout",
     "output_type": "stream",
     "text": [
      "5\n",
      "[[ 1.  1. -1. -1. -1.]\n",
      " [-1. -1.  1.  1.  1.]\n",
      " [-1. -1. -1. -1. -1.]\n",
      " [-1.  1.  1. -1.  1.]\n",
      " [ 1.  1. -1.  1. -1.]]\n",
      "-6.0\n"
     ]
    }
   ],
   "source": [
    "import numpy as np\n",
    "import random \n",
    "m=[1,-1] \n",
    "summ=0\n",
    "l=0\n",
    "n=int(input())\n",
    "a=np.zeros((n,n))\n",
    "\n",
    "for i in range(n):\n",
    "    for j in range(n):\n",
    "        a[i,j]=random.choice(m)\n",
    "print(a)\n",
    "\n",
    "for i in range(n):\n",
    "    for j in range(n):\n",
    "        summ+=a[i,j]*a[i,j-1]\n",
    "        l+=a[i-1,j]*a[i,j]        \n",
    "print(summ+l)"
   ]
  },
  {
   "cell_type": "code",
   "execution_count": null,
   "id": "e2b04e65",
   "metadata": {},
   "outputs": [],
   "source": []
  }
 ],
 "metadata": {
  "kernelspec": {
   "display_name": "Python 3",
   "language": "python",
   "name": "python3"
  },
  "language_info": {
   "codemirror_mode": {
    "name": "ipython",
    "version": 3
   },
   "file_extension": ".py",
   "mimetype": "text/x-python",
   "name": "python",
   "nbconvert_exporter": "python",
   "pygments_lexer": "ipython3",
   "version": "3.8.8"
  }
 },
 "nbformat": 4,
 "nbformat_minor": 5
}
