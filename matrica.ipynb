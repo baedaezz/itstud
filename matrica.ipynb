{
 "cells": [
  {
   "cell_type": "code",
   "execution_count": 80,
   "id": "1517454c",
   "metadata": {
    "scrolled": false
   },
   "outputs": [
    {
     "data": {
      "text/plain": [
       "-72.0"
      ]
     },
     "execution_count": 80,
     "metadata": {},
     "output_type": "execute_result"
    },
    {
     "data": {
      "image/png": "[encoded data removed]",
      "text/plain": [
       "<Figure size 432x288 with 1 Axes>"
      ]
     },
     "metadata": {
      "needs_background": "light"
     },
     "output_type": "display_data"
    }
   ],
   "source": [
    "import numpy as np\n",
    "import random\n",
    "import matplotlib.pyplot as plt\n",
    "\n",
    "t = 0.8\n",
    "p = 0\n",
    "delta = 0\n",
    "w = 0\n",
    "n = 6\n",
    "ones = [1, -1]\n",
    "s = 0\n",
    "l = 0\n",
    "a = np.zeros((n, n))\n",
    "for i in range(n):\n",
    "    for j in range(n):\n",
    "        a[i, j] = random.choice(ones)\n",
    "main = a.copy()\n",
    "numbs = range(n)\n",
    "\n",
    "for z in range(1000):\n",
    "    b = a.copy()\n",
    "    b[random.choice(numbs)][random.choice(numbs)] *= (-1)\n",
    "    sum1, sum2 = 0, 0\n",
    "    for i in range(n):\n",
    "        for j in range(n):\n",
    "            sum1 += a[i][j] * a[i][j - 1] + a[i - 1][j] * a[i][j]\n",
    "            sum2 += b[i][j] * b[i][j - 1] + b[i - 1][j] * b[i][j]\n",
    "    delta = sum2 - sum1\n",
    "    \n",
    "    if delta <= 0:\n",
    "        main = b.copy()\n",
    "        a = b.copy()\n",
    "    \n",
    "    else:\n",
    "        w = np.exp(-delta / t)\n",
    "        p = random.random()\n",
    "    \n",
    "    if p <= w:\n",
    "        main = a.copy()\n",
    "    \n",
    "    else:\n",
    "        a = main.copy()\n",
    "    \n",
    "plt.imshow(a, cmap = 'gray')\n",
    "sum1"
   ]
  },
  {
   "cell_type": "code",
   "execution_count": null,
   "id": "23c6bd0e",
   "metadata": {},
   "outputs": [],
   "source": []
  },
  {
   "cell_type": "code",
   "execution_count": null,
   "id": "07251906",
   "metadata": {},
   "outputs": [],
   "source": []
  }
 ],
 "metadata": {
  "kernelspec": {
   "display_name": "Python 3",
   "language": "python",
   "name": "python3"
  },
  "language_info": {
   "codemirror_mode": {
    "name": "ipython",
    "version": 3
   },
   "file_extension": ".py",
   "mimetype": "text/x-python",
   "name": "python",
   "nbconvert_exporter": "python",
   "pygments_lexer": "ipython3",
   "version": "3.8.8"
  }
 },
 "nbformat": 4,
 "nbformat_minor": 5
}
