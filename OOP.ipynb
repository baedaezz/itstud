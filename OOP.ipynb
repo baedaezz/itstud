{
 "cells": [
  {
   "cell_type": "code",
   "execution_count": 80,
   "id": "179f64b1",
   "metadata": {},
   "outputs": [],
   "source": [
    "class armeika:\n",
    "    def __init__(self, name: str, hp: int, mood: int):\n",
    "        self.name = name\n",
    "        self.hp = hp\n",
    "        self.mood = mood\n",
    "    \n",
    "    def lektsia(self):\n",
    "        self.hp += 20\n",
    "        self.mood -= 5\n",
    "        print('вы попали на нудную лекцию, можно поспать, но непонятно, зачем вы здесь...\\n', 'настроение:', self.mood, 'здоровье:', self.hp)\n",
    "        \n",
    "    def poligon(self):\n",
    "        self.hp -= 10\n",
    "        self.mood += 30\n",
    "        print('полигон, ура! ночные стрельбы, все дела...\\n', 'настроение:', self.mood, 'здоровье:', self.hp)\n",
    "        \n",
    "    def sportzal(self):\n",
    "        self.hp -= 20\n",
    "        self.mood += 10\n",
    "        print('пора подкачаться... упс! вы отбили себе костяшки на руках.\\n', 'настроение:', self.mood, 'здоровье:', self.hp)\n",
    "        \n",
    "    def stolovka(self):\n",
    "        self.hp -= 10\n",
    "        self.mood -= 10\n",
    "        print('невкусно, аппетита нет... зачем вы сюда приходите?\\n', 'настроение:', self.mood, 'здоровье:', self.hp)\n",
    "        \n",
    "    def uval(self):\n",
    "        self.mood += 30\n",
    "        print('погода не очень, но вы рады и этому, хорошо на свободе, всё-таки!\\n', 'настроение:', self.mood, 'здоровье:', self.hp)"
   ]
  },
  {
   "cell_type": "code",
   "execution_count": 81,
   "id": "1c3bcbf4",
   "metadata": {},
   "outputs": [
    {
     "name": "stdout",
     "output_type": "stream",
     "text": [
      "невкусно, аппетита нет... зачем вы сюда приходите?\n",
      " настроение: 40 здоровье: 40\n",
      "None\n"
     ]
    }
   ],
   "source": [
    "kursant = armeika('Mironov', 50, 50)\n",
    "print(kursant.stolovka())"
   ]
  },
  {
   "cell_type": "code",
   "execution_count": 82,
   "id": "353827d7",
   "metadata": {},
   "outputs": [
    {
     "name": "stdout",
     "output_type": "stream",
     "text": [
      "вы попали на нудную лекцию, можно поспать, но непонятно, зачем вы здесь...\n",
      " настроение: 35 здоровье: 60\n",
      "None\n"
     ]
    }
   ],
   "source": [
    "print(kursant.lektsia())"
   ]
  },
  {
   "cell_type": "code",
   "execution_count": 83,
   "id": "904c340a",
   "metadata": {},
   "outputs": [
    {
     "name": "stdout",
     "output_type": "stream",
     "text": [
      "полигон, ура! ночные стрельбы, все дела...\n",
      " настроение: 65 здоровье: 50\n",
      "None\n"
     ]
    }
   ],
   "source": [
    "print(kursant.poligon())"
   ]
  },
  {
   "cell_type": "code",
   "execution_count": 84,
   "id": "a80a698e",
   "metadata": {},
   "outputs": [
    {
     "name": "stdout",
     "output_type": "stream",
     "text": [
      "пора подкачаться... упс! вы отбили себе костяшки на руках.\n",
      " настроение: 75 здоровье: 30\n",
      "None\n"
     ]
    }
   ],
   "source": [
    "print(kursant.sportzal())"
   ]
  },
  {
   "cell_type": "code",
   "execution_count": 85,
   "id": "b74009fe",
   "metadata": {},
   "outputs": [
    {
     "name": "stdout",
     "output_type": "stream",
     "text": [
      "погода не очень, но вы рады и этому, хорошо на свободе, всё-таки!\n",
      " настроение: 105 здоровье: 30\n",
      "None\n"
     ]
    }
   ],
   "source": [
    "print(kursant.uval())"
   ]
  },
  {
   "cell_type": "code",
   "execution_count": 86,
   "id": "bb9abf0a",
   "metadata": {},
   "outputs": [],
   "source": [
    "class vipusknoi(armeika):\n",
    "    def __init__(self, name, hp, mood, place):\n",
    "        super.__init__(self, name, hp, mood)\n",
    "        self.place = place\n",
    "    \n",
    "    def tusovka(self):\n",
    "        self.mood += 5000\n",
    "        print('ура, этот ад кончился, отдыхаем, ребята!')\n",
    "    \n",
    "    def raspredeleniye(self):\n",
    "        self.place = 'Armenia'\n",
    "        print('вы будете работать в Армении, вроде, всё не так плохо')"
   ]
  },
  {
   "cell_type": "code",
   "execution_count": null,
   "id": "ceefeb7a",
   "metadata": {},
   "outputs": [],
   "source": []
  }
 ],
 "metadata": {
  "kernelspec": {
   "display_name": "Python 3",
   "language": "python",
   "name": "python3"
  },
  "language_info": {
   "codemirror_mode": {
    "name": "ipython",
    "version": 3
   },
   "file_extension": ".py",
   "mimetype": "text/x-python",
   "name": "python",
   "nbconvert_exporter": "python",
   "pygments_lexer": "ipython3",
   "version": "3.8.8"
  }
 },
 "nbformat": 4,
 "nbformat_minor": 5
}
